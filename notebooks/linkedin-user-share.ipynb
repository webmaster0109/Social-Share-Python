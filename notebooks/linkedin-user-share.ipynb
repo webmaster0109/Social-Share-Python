{
 "cells": [
  {
   "cell_type": "code",
   "execution_count": 1,
   "id": "79160667-c53b-4c91-961b-3634cadfcf21",
   "metadata": {},
   "outputs": [],
   "source": [
    "import setup\n",
    "setup.init()"
   ]
  },
  {
   "cell_type": "code",
   "execution_count": 2,
   "id": "b5d037b4-24c1-4b14-aa19-7a70d0e0becc",
   "metadata": {},
   "outputs": [],
   "source": [
    "from django.contrib.auth import get_user_model"
   ]
  },
  {
   "cell_type": "code",
   "execution_count": 3,
   "id": "7377647e-d65f-47cb-a8ff-a4326576584b",
   "metadata": {},
   "outputs": [],
   "source": [
    "user = get_user_model()"
   ]
  },
  {
   "cell_type": "code",
   "execution_count": 4,
   "id": "76e429b3-992a-4978-b3c1-abcd372afd2c",
   "metadata": {},
   "outputs": [],
   "source": [
    "qs = user.objects.get(username=\"shrichand\")"
   ]
  },
  {
   "cell_type": "code",
   "execution_count": 17,
   "id": "deb31f6a-336d-445e-ab30-547f0baf77c8",
   "metadata": {},
   "outputs": [],
   "source": [
    "social_account = qs.socialaccount_set.first()"
   ]
  },
  {
   "cell_type": "code",
   "execution_count": 6,
   "id": "b119d39a-5676-4bf4-978a-0a5e9fd1f28d",
   "metadata": {},
   "outputs": [],
   "source": [
    "# dir(social_account)"
   ]
  },
  {
   "cell_type": "code",
   "execution_count": 19,
   "id": "5e5cc6e7-8245-4779-97ae-766225366c18",
   "metadata": {},
   "outputs": [
    {
     "data": {
      "text/plain": [
       "<SocialToken: social application token (1)>"
      ]
     },
     "execution_count": 19,
     "metadata": {},
     "output_type": "execute_result"
    }
   ],
   "source": [
    "token = social_account.socialtoken_set.first()\n",
    "token"
   ]
  },
  {
   "cell_type": "code",
   "execution_count": 24,
   "id": "dca2b36c-4e10-441c-b795-7a91a0abcec3",
   "metadata": {},
   "outputs": [],
   "source": [
    "linkedin_social = qs.socialaccount_set.get(provider='linkedin')"
   ]
  },
  {
   "cell_type": "code",
   "execution_count": 33,
   "id": "591a3735-ca4f-4d6f-95c1-278a9ae0c464",
   "metadata": {},
   "outputs": [
    {
     "data": {
      "text/plain": [
       "'AQXKTBsioIhN2QSSalE3zssB3DDHRMDEAkVpw0KkpgCRLMAajY5OY4o8DB-MNGArD422cb_U_WZGvTj0Y1Z1uim9GDftNi_eBlECnhTMEwzEJE6QuMcrdC4pPTNYJRcSnuOP81uWWAP_LKOalc3eT5y6SCI3d0TSbHPxLVDIN4lUHEe3Qbb5r_IKHiskx8g9DxbJL-iEfoAV9MBcb5tAgkn3SLHA9F6fePya-vLA-ox0XB0Pat7_b2RgKdZcd5Capj_StoCtm2aslcTDGFml5mxtnubtcbbXcWWYuvL4obVoDC2SZ6JKvJwwLhDwVetIZJnCseQOnPOm1BNt8Qx_sWK6Vxgu2w'"
      ]
     },
     "execution_count": 33,
     "metadata": {},
     "output_type": "execute_result"
    }
   ],
   "source": [
    "linkedin_social.socialtoken_set.all().first().token"
   ]
  },
  {
   "cell_type": "code",
   "execution_count": 8,
   "id": "c5f411a7-4030-4184-8922-e648040357cc",
   "metadata": {},
   "outputs": [],
   "source": [
    "user_token = token.token"
   ]
  },
  {
   "cell_type": "code",
   "execution_count": 9,
   "id": "e093c12c-9433-4f88-94ef-7a259f643081",
   "metadata": {},
   "outputs": [
    {
     "data": {
      "text/plain": [
       "'AQXKTBsioIhN2QSSalE3zssB3DDHRMDEAkVpw0KkpgCRLMAajY5OY4o8DB-MNGArD422cb_U_WZGvTj0Y1Z1uim9GDftNi_eBlECnhTMEwzEJE6QuMcrdC4pPTNYJRcSnuOP81uWWAP_LKOalc3eT5y6SCI3d0TSbHPxLVDIN4lUHEe3Qbb5r_IKHiskx8g9DxbJL-iEfoAV9MBcb5tAgkn3SLHA9F6fePya-vLA-ox0XB0Pat7_b2RgKdZcd5Capj_StoCtm2aslcTDGFml5mxtnubtcbbXcWWYuvL4obVoDC2SZ6JKvJwwLhDwVetIZJnCseQOnPOm1BNt8Qx_sWK6Vxgu2w'"
      ]
     },
     "execution_count": 9,
     "metadata": {},
     "output_type": "execute_result"
    }
   ],
   "source": [
    "user_token"
   ]
  },
  {
   "cell_type": "code",
   "execution_count": 10,
   "id": "9b1195f4-6012-4827-ab4f-96943fe41423",
   "metadata": {},
   "outputs": [],
   "source": [
    "import requests"
   ]
  },
  {
   "cell_type": "code",
   "execution_count": 11,
   "id": "ec1f4162-28d2-4309-845a-55b8026f79c6",
   "metadata": {},
   "outputs": [],
   "source": [
    "endpoints = \"https://api.linkedin.com/v2/ugcPosts\"\n",
    "method = \"POST\"\n",
    "headers = {\n",
    "    \"Authorization\": f\"Bearer {user_token}\",\n",
    "    \"X-Restli-Protocol-Version\": \"2.0.0\"\n",
    "}"
   ]
  },
  {
   "cell_type": "code",
   "execution_count": 12,
   "id": "8cb8de3a-8edc-4432-8af4-4cc11f1942c4",
   "metadata": {},
   "outputs": [
    {
     "data": {
      "text/plain": [
       "'S1oqno9yCS'"
      ]
     },
     "execution_count": 12,
     "metadata": {},
     "output_type": "execute_result"
    }
   ],
   "source": [
    "user_id = social_account.uid\n",
    "user_id"
   ]
  },
  {
   "cell_type": "code",
   "execution_count": 13,
   "id": "20d50edc-1e70-4645-9f42-f916447acbb1",
   "metadata": {},
   "outputs": [],
   "source": [
    "payload = {\n",
    "    \"author\": f\"urn:li:person:{user_id}\",\n",
    "    \"lifecycleState\": \"PUBLISHED\",\n",
    "    \"specificContent\": {\n",
    "        \"com.linkedin.ugc.ShareContent\": {\n",
    "            \"shareCommentary\": {\n",
    "                \"text\": \"Hello. This is my first Share on LinkedIn with my App!\"\n",
    "            },\n",
    "            \"shareMediaCategory\": \"NONE\"\n",
    "        }\n",
    "    },\n",
    "    \"visibility\": {\n",
    "        \"com.linkedin.ugc.MemberNetworkVisibility\": \"PUBLIC\"\n",
    "    }\n",
    "}"
   ]
  },
  {
   "cell_type": "code",
   "execution_count": 14,
   "id": "cf19c2d6-353e-406e-8d79-ac966b4b7aeb",
   "metadata": {},
   "outputs": [],
   "source": [
    "response = requests.post(endpoints, json=payload, headers=headers)\n",
    "response.raise_for_status()"
   ]
  },
  {
   "cell_type": "code",
   "execution_count": null,
   "id": "86d1479d-22b8-4818-b5ff-3b9760bf4bc6",
   "metadata": {},
   "outputs": [],
   "source": []
  }
 ],
 "metadata": {
  "kernelspec": {
   "display_name": "Python 3 (ipykernel)",
   "language": "python",
   "name": "python3"
  },
  "language_info": {
   "codemirror_mode": {
    "name": "ipython",
    "version": 3
   },
   "file_extension": ".py",
   "mimetype": "text/x-python",
   "name": "python",
   "nbconvert_exporter": "python",
   "pygments_lexer": "ipython3",
   "version": "3.13.5"
  }
 },
 "nbformat": 4,
 "nbformat_minor": 5
}
