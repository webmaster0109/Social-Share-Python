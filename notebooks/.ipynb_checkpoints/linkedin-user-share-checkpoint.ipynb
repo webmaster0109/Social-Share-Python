{
 "cells": [
  {
   "cell_type": "code",
   "execution_count": 3,
   "id": "79160667-c53b-4c91-961b-3634cadfcf21",
   "metadata": {},
   "outputs": [],
   "source": [
    "import setup\n",
    "setup.init()"
   ]
  },
  {
   "cell_type": "code",
   "execution_count": 4,
   "id": "b5d037b4-24c1-4b14-aa19-7a70d0e0becc",
   "metadata": {},
   "outputs": [],
   "source": [
    "from django.contrib.auth import get_user_model"
   ]
  },
  {
   "cell_type": "code",
   "execution_count": 5,
   "id": "7377647e-d65f-47cb-a8ff-a4326576584b",
   "metadata": {},
   "outputs": [],
   "source": [
    "user = get_user_model()"
   ]
  },
  {
   "cell_type": "code",
   "execution_count": 6,
   "id": "76e429b3-992a-4978-b3c1-abcd372afd2c",
   "metadata": {},
   "outputs": [],
   "source": [
    "qs = user.objects.get(username=\"shrichand\")"
   ]
  },
  {
   "cell_type": "code",
   "execution_count": 7,
   "id": "deb31f6a-336d-445e-ab30-547f0baf77c8",
   "metadata": {},
   "outputs": [],
   "source": [
    "social_account = qs.socialaccount_set.first()"
   ]
  },
  {
   "cell_type": "code",
   "execution_count": 30,
   "id": "b119d39a-5676-4bf4-978a-0a5e9fd1f28d",
   "metadata": {},
   "outputs": [],
   "source": [
    "# dir(social_account)"
   ]
  },
  {
   "cell_type": "code",
   "execution_count": 18,
   "id": "5e5cc6e7-8245-4779-97ae-766225366c18",
   "metadata": {},
   "outputs": [],
   "source": [
    "token = social_account.socialtoken_set.first()"
   ]
  },
  {
   "cell_type": "code",
   "execution_count": 20,
   "id": "c5f411a7-4030-4184-8922-e648040357cc",
   "metadata": {},
   "outputs": [],
   "source": [
    "user_token = token.token"
   ]
  },
  {
   "cell_type": "code",
   "execution_count": 21,
   "id": "e093c12c-9433-4f88-94ef-7a259f643081",
   "metadata": {},
   "outputs": [
    {
     "data": {
      "text/plain": [
       "'AQV1riHX3ly5s38fboTsNdUKxi4m_aNjfOIWw0xTevrTUXWgRcE-p6lJZTjooT6LP2IzbI5-YzuZatWG6ZyU9bqvBsZlW0ZN_9hYVRr1pvD7rbNJqtusMIIij_AaXGX7hw_sdbTgZKxv8QDQhb375GxPuIACEd1dmzu0eE7PksAdiuEhgbeQwjDKUjeYdP8SuZ16Fx45T91QoQIjSwranD3enPdu5YUNi85vYpTN-rPTnLmi_OEN4TdwLSUd-tzr92RYbRiI0DvNohNTXvMbNS4So4p4Xwp2XSTiEuMGpM0P-6z8--OJH7lpzLabH8LolryIJFcUxCiG1dRIojYXgd0BY-qCrw'"
      ]
     },
     "execution_count": 21,
     "metadata": {},
     "output_type": "execute_result"
    }
   ],
   "source": [
    "user_token"
   ]
  },
  {
   "cell_type": "code",
   "execution_count": 22,
   "id": "9b1195f4-6012-4827-ab4f-96943fe41423",
   "metadata": {},
   "outputs": [],
   "source": [
    "import requests"
   ]
  },
  {
   "cell_type": "code",
   "execution_count": 26,
   "id": "ec1f4162-28d2-4309-845a-55b8026f79c6",
   "metadata": {},
   "outputs": [],
   "source": [
    "endpoints = \"https://api.linkedin.com/v2/ugcPosts\"\n",
    "method = \"POST\"\n",
    "headers = {\n",
    "    \"Authorization\": f\"Bearer {user_token}\",\n",
    "    \"X-Restli-Protocol-Version\": \"2.0.0\"\n",
    "}"
   ]
  },
  {
   "cell_type": "code",
   "execution_count": 32,
   "id": "8cb8de3a-8edc-4432-8af4-4cc11f1942c4",
   "metadata": {},
   "outputs": [
    {
     "data": {
      "text/plain": [
       "'S1oqno9yCS'"
      ]
     },
     "execution_count": 32,
     "metadata": {},
     "output_type": "execute_result"
    }
   ],
   "source": [
    "user_id = social_account.uid\n",
    "user_id"
   ]
  },
  {
   "cell_type": "code",
   "execution_count": 33,
   "id": "20d50edc-1e70-4645-9f42-f916447acbb1",
   "metadata": {},
   "outputs": [],
   "source": [
    "payload = {\n",
    "    \"author\": f\"urn:li:person:{user_id}\",\n",
    "    \"lifecycleState\": \"PUBLISHED\",\n",
    "    \"specificContent\": {\n",
    "        \"com.linkedin.ugc.ShareContent\": {\n",
    "            \"shareCommentary\": {\n",
    "                \"text\": \"Hello. This is my first Share on LinkedIn with my App!\"\n",
    "            },\n",
    "            \"shareMediaCategory\": \"NONE\"\n",
    "        }\n",
    "    },\n",
    "    \"visibility\": {\n",
    "        \"com.linkedin.ugc.MemberNetworkVisibility\": \"PUBLIC\"\n",
    "    }\n",
    "}"
   ]
  },
  {
   "cell_type": "code",
   "execution_count": 35,
   "id": "cf19c2d6-353e-406e-8d79-ac966b4b7aeb",
   "metadata": {},
   "outputs": [
    {
     "ename": "HTTPError",
     "evalue": "401 Client Error: Unauthorized for url: https://api.linkedin.com/v2/ugcPosts",
     "output_type": "error",
     "traceback": [
      "\u001b[31m---------------------------------------------------------------------------\u001b[39m",
      "\u001b[31mHTTPError\u001b[39m                                 Traceback (most recent call last)",
      "\u001b[36mCell\u001b[39m\u001b[36m \u001b[39m\u001b[32mIn[35]\u001b[39m\u001b[32m, line 2\u001b[39m\n\u001b[32m      1\u001b[39m response = requests.post(endpoints, json=payload, headers=headers)\n\u001b[32m----> \u001b[39m\u001b[32m2\u001b[39m \u001b[43mresponse\u001b[49m\u001b[43m.\u001b[49m\u001b[43mraise_for_status\u001b[49m\u001b[43m(\u001b[49m\u001b[43m)\u001b[49m\n",
      "\u001b[36mFile \u001b[39m\u001b[32m~\\Downloads\\akp\\social-share-app\\.share_env\\Lib\\site-packages\\requests\\models.py:1026\u001b[39m, in \u001b[36mResponse.raise_for_status\u001b[39m\u001b[34m(self)\u001b[39m\n\u001b[32m   1021\u001b[39m     http_error_msg = (\n\u001b[32m   1022\u001b[39m         \u001b[33mf\u001b[39m\u001b[33m\"\u001b[39m\u001b[38;5;132;01m{\u001b[39;00m\u001b[38;5;28mself\u001b[39m.status_code\u001b[38;5;132;01m}\u001b[39;00m\u001b[33m Server Error: \u001b[39m\u001b[38;5;132;01m{\u001b[39;00mreason\u001b[38;5;132;01m}\u001b[39;00m\u001b[33m for url: \u001b[39m\u001b[38;5;132;01m{\u001b[39;00m\u001b[38;5;28mself\u001b[39m.url\u001b[38;5;132;01m}\u001b[39;00m\u001b[33m\"\u001b[39m\n\u001b[32m   1023\u001b[39m     )\n\u001b[32m   1025\u001b[39m \u001b[38;5;28;01mif\u001b[39;00m http_error_msg:\n\u001b[32m-> \u001b[39m\u001b[32m1026\u001b[39m     \u001b[38;5;28;01mraise\u001b[39;00m HTTPError(http_error_msg, response=\u001b[38;5;28mself\u001b[39m)\n",
      "\u001b[31mHTTPError\u001b[39m: 401 Client Error: Unauthorized for url: https://api.linkedin.com/v2/ugcPosts"
     ]
    }
   ],
   "source": [
    "response = requests.post(endpoints, json=payload, headers=headers)\n",
    "response.raise_for_status()"
   ]
  },
  {
   "cell_type": "code",
   "execution_count": null,
   "id": "86d1479d-22b8-4818-b5ff-3b9760bf4bc6",
   "metadata": {},
   "outputs": [],
   "source": []
  }
 ],
 "metadata": {
  "kernelspec": {
   "display_name": "Python 3 (ipykernel)",
   "language": "python",
   "name": "python3"
  },
  "language_info": {
   "codemirror_mode": {
    "name": "ipython",
    "version": 3
   },
   "file_extension": ".py",
   "mimetype": "text/x-python",
   "name": "python",
   "nbconvert_exporter": "python",
   "pygments_lexer": "ipython3",
   "version": "3.13.5"
  }
 },
 "nbformat": 4,
 "nbformat_minor": 5
}
