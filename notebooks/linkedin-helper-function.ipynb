{
 "cells": [
  {
   "cell_type": "code",
   "execution_count": 1,
   "id": "79160667-c53b-4c91-961b-3634cadfcf21",
   "metadata": {},
   "outputs": [],
   "source": [
    "import setup\n",
    "setup.init()"
   ]
  },
  {
   "cell_type": "code",
   "execution_count": 2,
   "id": "b5d037b4-24c1-4b14-aa19-7a70d0e0becc",
   "metadata": {},
   "outputs": [],
   "source": [
    "from django.contrib.auth import get_user_model"
   ]
  },
  {
   "cell_type": "code",
   "execution_count": 3,
   "id": "7377647e-d65f-47cb-a8ff-a4326576584b",
   "metadata": {},
   "outputs": [],
   "source": [
    "User = get_user_model()"
   ]
  },
  {
   "cell_type": "code",
   "execution_count": 4,
   "id": "76e429b3-992a-4978-b3c1-abcd372afd2c",
   "metadata": {},
   "outputs": [],
   "source": [
    "user_detail = User.objects.get(username=\"shrichand\")\n",
    "text = \"Worked on Linkedin API through Django and Python for posting directly through Web App\" "
   ]
  },
  {
   "cell_type": "code",
   "execution_count": 5,
   "id": "f55efdf3-e216-4b3e-aee8-6b6cb0bf622e",
   "metadata": {},
   "outputs": [],
   "source": [
    "from helpers import linkedin"
   ]
  },
  {
   "cell_type": "code",
   "execution_count": 6,
   "id": "fbc7ef37-c258-430f-a776-7026c982e610",
   "metadata": {},
   "outputs": [
    {
     "data": {
      "text/plain": [
       "<Response [201]>"
      ]
     },
     "execution_count": 6,
     "metadata": {},
     "output_type": "execute_result"
    }
   ],
   "source": [
    "linkedin.post_to_linkedin(user_detail, text)"
   ]
  },
  {
   "cell_type": "code",
   "execution_count": null,
   "id": "69038122-47ae-4998-926b-c25070e0f31a",
   "metadata": {},
   "outputs": [],
   "source": []
  }
 ],
 "metadata": {
  "kernelspec": {
   "display_name": "Python 3 (ipykernel)",
   "language": "python",
   "name": "python3"
  },
  "language_info": {
   "codemirror_mode": {
    "name": "ipython",
    "version": 3
   },
   "file_extension": ".py",
   "mimetype": "text/x-python",
   "name": "python",
   "nbconvert_exporter": "python",
   "pygments_lexer": "ipython3",
   "version": "3.13.5"
  }
 },
 "nbformat": 4,
 "nbformat_minor": 5
}
